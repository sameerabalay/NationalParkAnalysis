{
 "cells": [
  {
   "cell_type": "code",
   "execution_count": 1,
   "metadata": {},
   "outputs": [],
   "source": [
    "import numpy as np\n",
    "import scipy.stats as stats"
   ]
  },
  {
   "cell_type": "code",
   "execution_count": 2,
   "metadata": {},
   "outputs": [
    {
     "name": "stdout",
     "output_type": "stream",
     "text": [
      "213784.32634022558\n",
      "0.0\n",
      "4\n",
      "[[ 95127.17719831 279939.48200408  82190.17177633 415715.07980239\n",
      "   86824.08921889]\n",
      " [ 56721.82280169 166920.51799592  49007.82822367 247879.92019761\n",
      "   51770.91078111]]\n"
     ]
    }
   ],
   "source": [
    "obs = np.array([[115902,154876,89504,498389,101125], [35947,291984,41694,165206,37470]])\n",
    "\n",
    " \n",
    "\n",
    "g, p, dof, expctd = stats.chi2_contingency(obs)\n",
    "\n",
    "print(g)\n",
    "print(p)\n",
    "print(dof)\n",
    "print(expctd)"
   ]
  },
  {
   "cell_type": "code",
   "execution_count": 4,
   "metadata": {},
   "outputs": [
    {
     "name": "stdout",
     "output_type": "stream",
     "text": [
      "211307.5847325755\n",
      "0.0\n",
      "4\n",
      "[[ 95127.17719831 279939.48200408  82190.17177633 415715.07980239\n",
      "   86824.08921889]\n",
      " [ 56721.82280169 166920.51799592  49007.82822367 247879.92019761\n",
      "   51770.91078111]]\n"
     ]
    }
   ],
   "source": [
    "g, p, dof, expctd = stats.chi2_contingency(obs, lambda_=\"log-likelihood\")\n",
    "print(g)\n",
    "print(p)\n",
    "print(dof)\n",
    "print(expctd)"
   ]
  },
  {
   "cell_type": "markdown",
   "metadata": {},
   "source": [
    "\n",
    "\n"
   ]
  }
 ],
 "metadata": {
  "kernelspec": {
   "display_name": "Python 3",
   "language": "python",
   "name": "python3"
  },
  "language_info": {
   "codemirror_mode": {
    "name": "ipython",
    "version": 3
   },
   "file_extension": ".py",
   "mimetype": "text/x-python",
   "name": "python",
   "nbconvert_exporter": "python",
   "pygments_lexer": "ipython3",
   "version": "3.6.5"
  }
 },
 "nbformat": 4,
 "nbformat_minor": 2
}
