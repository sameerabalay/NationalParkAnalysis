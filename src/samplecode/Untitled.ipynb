{
 "cells": [
  {
   "cell_type": "code",
   "execution_count": 1,
   "metadata": {},
   "outputs": [
    {
     "name": "stderr",
     "output_type": "stream",
     "text": [
      "/anaconda3/lib/python3.6/importlib/_bootstrap.py:219: RuntimeWarning: numpy.dtype size changed, may indicate binary incompatibility. Expected 96, got 88\n",
      "  return f(*args, **kwds)\n"
     ]
    }
   ],
   "source": [
    "import numpy as np\n",
    "import scipy.stats as stats\n",
    "\n"
   ]
  },
  {
   "cell_type": "markdown",
   "metadata": {},
   "source": [
    "P(6) = 0.35 - Either die getting 6\n",
    "\n",
    "Suppose you suspectt hat a pair of 6 sided dice is potentially loaded such that P(6) = 0.35 and evenly \n",
    "distributed to the other values. Create a test that can be run with low sample sizes tp distinguish \n",
    "between a pair of loaded dice and a standard pair. Calculate the test power for a significance levels \n",
    "of alpha = 0.05 and 0.1 and n=15 or 20"
   ]
  },
  {
   "cell_type": "code",
   "execution_count": null,
   "metadata": {},
   "outputs": [],
   "source": [
    "P_6 = 0.35\n",
    "P_not_6 = 1 - 0.35\n",
    "\n",
    "\n",
    "# You run a T-test \n",
    "\n",
    "# One of them is loaded because the probability is 6 is 0.35 whereas the other has a probability of 6 as 1/6\n",
    "'''\n",
    "scipy.stats.binom_test(x, n=None, p=0.5)[source]¶\n",
    "Perform a test that the probability of success is p.\n",
    "\n",
    "This is an exact, two-sided test of the null hypothesis that the probability of success in a Bernoulli experiment is p.\n",
    "\n",
    "Parameters:\t\n",
    "x : integer or array_like\n",
    "\n",
    "the number of successes, or if x has length 2, it is the number of successes and the number of failures.\n",
    "\n",
    "n : integer\n",
    "\n",
    "the number of trials. This is ignored if x gives both the number of successes and failures\n",
    "\n",
    "p : float, optional\n",
    "\n",
    "The hypothesized probability of success. 0 <= p <= 1. The default value is p = 0.5\n",
    "\n",
    "Returns:\t\n",
    "p-value : float\n",
    "\n",
    "The p-value of the hypothesis test\n",
    "\n",
    "'''\n",
    "\n",
    "import statsmodels.api as sm\n",
    "import numpy as np\n",
    "import rpy2.robjects.packages as rpackages\n",
    "import rpy2.robjects as robjects\n",
    "rstats = rpackages.importr('stats')\n",
    "\n",
    "s1 = 1556\n",
    "n1 = 2455\n",
    "\n",
    "s2 = 1671\n",
    "n2 = 2730\n",
    "\n",
    "# manual calculation\n",
    "p1 = s1 / n1\n",
    "p2 = s2 / n2\n",
    "p = (s1 + s2) / (n1 + n2)\n",
    "\n",
    "z = (p1 - p2) / (p*(1-p)*((1/n1)+(1/n2)))**0.5\n",
    "\n",
    "# using R in Python with rpy2\n",
    "rmatrix = robjects.r.matrix(robjects.IntVector([s1, n1-s1, s2,n2-s2]), nrow=2)\n",
    "fisher_test = rstats.fisher_test(rmatrix, alternative=\"two.sided\")\n",
    "\n",
    "zscore, pval = sm.stats.proportions_ztest([s1, s2], [n1, n2], alternative='two-sided')\n",
    "\n",
    "print('Manual calculation of z: {:.6f}'.format(z))\n",
    "print('Z-score from statsmodels: {:.6f}'.format(zscore))\n",
    "print('R pvalue from fisher.test: {:.6f}'.format(fisher_test[0][0]))\n",
    "print('Statsmodels pvalue: {:.6f}'.format(pval))\n"
   ]
  },
  {
   "cell_type": "code",
   "execution_count": null,
   "metadata": {},
   "outputs": [],
   "source": [
    "Say we spend a few days counting whales and sharks in the Atlantic and Indian oceans. \n",
    "In the Atlantic ocean we find 8 whales and 1 shark, in the Indian ocean 2 whales and 5 sharks. \n",
    "Then our contingency table is:\n",
    "\n",
    "        Dice1  Dice2\n",
    "6        8        2\n",
    "not6     1        5\n",
    "We use this table to find the p-value:\n",
    "\n",
    ">>>\n",
    ">>> import scipy.stats as stats\n",
    ">>> oddsratio, pvalue = stats.fisher_exact([[8, 2], [1, 5]])\n",
    ">>> pvalue\n",
    "0.0349...\n",
    "\n",
    "\n",
    "PMF for the speicfuc set of probabilities"
   ]
  }
 ],
 "metadata": {
  "kernelspec": {
   "display_name": "Python 3",
   "language": "python",
   "name": "python3"
  },
  "language_info": {
   "codemirror_mode": {
    "name": "ipython",
    "version": 3
   },
   "file_extension": ".py",
   "mimetype": "text/x-python",
   "name": "python",
   "nbconvert_exporter": "python",
   "pygments_lexer": "ipython3",
   "version": "3.6.5"
  }
 },
 "nbformat": 4,
 "nbformat_minor": 2
}
