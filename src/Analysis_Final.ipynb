{
 "cells": [
  {
   "cell_type": "code",
   "execution_count": 69,
   "metadata": {},
   "outputs": [],
   "source": [
    "import pandas as pd\n",
    "import numpy as np\n",
    "import matplotlib.pyplot as plt\n",
    "from numpy import histogram, linspace\n",
    "from bokeh.plotting import figure, show, output_file\n",
    "import scipy.stats as stats\n",
    "\n"
   ]
  },
  {
   "cell_type": "code",
   "execution_count": 53,
   "metadata": {},
   "outputs": [],
   "source": [
    "# Load the data from xslx (Both *_1979_1997.xslx, *_1998_2017.xslx)\n",
    "\n",
    "park_1979_1997 = pd.read_excel(\"../data/changed_parked_data/Annual_All_Report_By_Park_1979_1997.xlsx\", skiprows=9)\n",
    "park_1998_2017 = pd.read_excel(\"../data/changed_parked_data/Annual_All_Report_By_Park_1998_2017.xlsx\", skiprows=9)\n"
   ]
  },
  {
   "cell_type": "code",
   "execution_count": 54,
   "metadata": {},
   "outputs": [],
   "source": [
    "# Merge the dataset into one dataframe\n",
    "merged_dataset = pd.merge(park_1998_2017, park_1979_1997, on=['Park Name'],how='outer')"
   ]
  },
  {
   "cell_type": "code",
   "execution_count": null,
   "metadata": {},
   "outputs": [],
   "source": []
  },
  {
   "cell_type": "code",
   "execution_count": 56,
   "metadata": {},
   "outputs": [],
   "source": [
    "'''\n",
    "Get \n",
    "* Recreational Visits\n",
    "* Non Recreational Visits\n",
    "* Misc Overnights \n",
    "* Concessioner_Camping\n",
    "* Tent_Overnights\n",
    "* RV_Overnights\n",
    "* BackCountry_Overnights\n",
    "* Non_Recreational_Overnights\n",
    "* Non_Recreational_Hours\n",
    "* Recreational_Hours\n",
    "Use regex match to get the column names for all the data\n",
    "\\d+_Recreational_Visits along with Park Name\n",
    "\\d+_Non_Recreational_Visits along with Park Name\n",
    "\n",
    "'''\n",
    "recreational_visits = merged_dataset.filter(regex=(\"(\\d+_Recreational_Visits)|(Park)\"))\n",
    "non_recreational_visits = merged_dataset.filter(regex=(\"(\\d+_Non_Recreational_Visits)|(Park)\"))\n",
    "misc_overnights = merged_dataset.filter(regex=(\"(\\d+_Misc_Overnights)|(Park)\"))\n",
    "concessioner_camping = merged_dataset.filter(regex=(\"(\\d+_Concessioner_Camping)|(Park)\"))\n",
    "tent_overnights = merged_dataset.filter(regex=(\"(\\d+_Tent_Overnights)|(Park)\"))\n",
    "rv_overnights = merged_dataset.filter(regex=(\"(\\d+_RV_Overnights)|(Park)\"))\n",
    "backcountry_overnights = merged_dataset.filter(regex=(\"(\\d+_BackCountry_Overnights)|(Park)\"))\n",
    "non_recreational_overnights = merged_dataset.filter(regex=(\"(\\d+_Non_Recreational_Overnights)|(Park)\"))\n",
    "non_recreational_hours = merged_dataset.filter(regex=(\"(\\d+_Non_Recreational_Hours)|(Park)\"))\n",
    "recreational_hours = merged_dataset.filter(regex=(\"(\\d+_Recreational_Hours)|(Park)\"))\n"
   ]
  },
  {
   "cell_type": "code",
   "execution_count": 33,
   "metadata": {},
   "outputs": [],
   "source": [
    "'''\n",
    " Review the recreational vists and drop the average columns because they are not required\n",
    " Sorted the columns because the year is prefixed to the column names so it was easier to order them\n",
    "\n",
    "'''\n",
    "\n",
    "rec_visits = recreational_visits.drop(columns=['Average_1998_2017_Recreational_Visits', 'Average_1979_1997_Recreational_Visits'])\n",
    "rec_visits_sorted = rec_visits.reindex(sorted(rec_visits.columns), axis=1)\n"
   ]
  },
  {
   "cell_type": "code",
   "execution_count": 34,
   "metadata": {},
   "outputs": [],
   "source": [
    "'''\n",
    "After doing some analysis on the National Park Service website \n",
    "I found the most visited parks to date from 1979 to 1997 are:\n",
    "\n",
    "* Yosemite, Zion, Yellowstone, Grand Canyon, Rocky Mountain, Great Smoky Mountains\n",
    "\n",
    "'''\n",
    "\n",
    "\n",
    "# Construct the Visit data for graphing\n",
    "\n",
    "yosemite_data = rec_visits_sorted[rec_visits_sorted['Park Name'] == 'Yosemite NP']\n",
    "yosemite_visits = (yosemite_data.pivot_table(yosemite_data,index=[\"Yosemite NP\"])).transpose()\n",
    "\n",
    "zion_data = rec_visits_sorted[rec_visits_sorted['Park Name'] == 'Zion NP']\n",
    "zion_visits = (zion_data.pivot_table(zion_data,index=[\"Zion NP\"])).transpose()\n",
    "\n",
    "yellowstone_data = rec_visits_sorted[rec_visits_sorted['Park Name'] == 'Yellowstone NP']\n",
    "yellowstone_visits = (yellowstone_data.pivot_table(yellowstone_data,index=[\"Yellowstone NP\"])).transpose()\n",
    "\n",
    "grandcanyon_data = rec_visits_sorted[rec_visits_sorted['Park Name'] == 'Grand Canyon NP']\n",
    "grandcanyon_visits = (grandcanyon_data.pivot_table(grandcanyon_data,index=[\"Grand Canyon NP\"])).transpose()\n",
    "\n",
    "rockymoutain_data = rec_visits_sorted[rec_visits_sorted['Park Name'] == 'Rocky Mountain NP']\n",
    "rockymoutain_visits = (rockymoutain_data.pivot_table(rockymoutain_data,index=[\"Rocky Mountain NP\"])).transpose()\n",
    "\n",
    "smokymountain_data = rec_visits_sorted[rec_visits_sorted['Park Name'] == 'Great Smoky Mountains NP']\n",
    "smokymountain_visits = (smokymountain_data.pivot_table(smokymountain_data,index=[\"Great Smoky Mountains NP\"])).transpose()\n",
    "\n",
    "\n"
   ]
  },
  {
   "cell_type": "code",
   "execution_count": 35,
   "metadata": {},
   "outputs": [
    {
     "name": "stderr",
     "output_type": "stream",
     "text": [
      "/anaconda3/lib/python3.6/site-packages/bokeh/models/sources.py:110: BokehUserWarning: ColumnDataSource's columns must be of the same length. Current lengths: ('x', 38), ('y', 39)\n",
      "  \"Current lengths: %s\" % \", \".join(sorted(str((k, len(v))) for k, v in data.items())), BokehUserWarning))\n",
      "/anaconda3/lib/python3.6/site-packages/bokeh/models/sources.py:110: BokehUserWarning: ColumnDataSource's columns must be of the same length. Current lengths: ('x', 38), ('y', 39)\n",
      "  \"Current lengths: %s\" % \", \".join(sorted(str((k, len(v))) for k, v in data.items())), BokehUserWarning))\n",
      "/anaconda3/lib/python3.6/site-packages/bokeh/models/sources.py:110: BokehUserWarning: ColumnDataSource's columns must be of the same length. Current lengths: ('x', 38), ('y', 39)\n",
      "  \"Current lengths: %s\" % \", \".join(sorted(str((k, len(v))) for k, v in data.items())), BokehUserWarning))\n",
      "/anaconda3/lib/python3.6/site-packages/bokeh/models/sources.py:110: BokehUserWarning: ColumnDataSource's columns must be of the same length. Current lengths: ('x', 38), ('y', 39)\n",
      "  \"Current lengths: %s\" % \", \".join(sorted(str((k, len(v))) for k, v in data.items())), BokehUserWarning))\n",
      "/anaconda3/lib/python3.6/site-packages/bokeh/models/sources.py:110: BokehUserWarning: ColumnDataSource's columns must be of the same length. Current lengths: ('x', 38), ('y', 39)\n",
      "  \"Current lengths: %s\" % \", \".join(sorted(str((k, len(v))) for k, v in data.items())), BokehUserWarning))\n",
      "/anaconda3/lib/python3.6/site-packages/bokeh/models/sources.py:110: BokehUserWarning: ColumnDataSource's columns must be of the same length. Current lengths: ('x', 38), ('y', 39)\n",
      "  \"Current lengths: %s\" % \", \".join(sorted(str((k, len(v))) for k, v in data.items())), BokehUserWarning))\n"
     ]
    }
   ],
   "source": [
    "'''\n",
    "Plot the recreational vists for top parks using bokeh\n",
    "'''\n",
    "\n",
    "\n",
    "N = 4000\n",
    "x = np.random.random(size=N) * 100\n",
    "y = np.random.random(size=N) * 100\n",
    "radii = np.random.random(size=N) * 1.5\n",
    "colors = [\n",
    "    \"#%02x%02x%02x\" % (int(r), int(g), 150) for r, g in zip(50+2*x, 30+2*y)\n",
    "]\n",
    "\n",
    "\n",
    "TOOLS=\"hover,crosshair,pan,wheel_zoom,zoom_in,zoom_out,box_zoom,undo,redo,reset,tap,save,box_select,poly_select,lasso_select,\"\n",
    "\n",
    "\n",
    "p = figure(tools=TOOLS,title=\"Park Recreational Visits\",plot_width=800, plot_height=800) # Title is the title of the  plot\n",
    "p.xaxis.axis_label = 'Year' # X-axis label\n",
    "p.yaxis.axis_label = 'Total Visits' # Y-axis label\n",
    "\n",
    "\n",
    "year = [i for i in range(1979,2017)]\n",
    "yosemite_visit_data = yosemite_visits['Yosemite NP']\n",
    "yellowstone_visit_data = yellowstone_visits['Yellowstone NP']\n",
    "zion_visit_data = zion_visits['Zion NP']\n",
    "grandcanyon_visit_data = grandcanyon_visits['Grand Canyon NP']\n",
    "rockymountain_visit_data = rockymoutain_visits['Rocky Mountain NP']\n",
    "smokymountain_visit_data = smokymountain_visits['Great Smoky Mountains NP']\n",
    "\n",
    "# add a line renderer\n",
    "p.line(year, yosemite_visit_data,line_color=\"orange\", line_width=2, alpha=0.7, legend=\"Yosemite\")\n",
    "p.line(year, yellowstone_visit_data,line_color=\"red\", line_width=2, alpha=0.7, legend=\"Yellow Stone\")\n",
    "p.line(year, zion_visit_data,line_color=\"blue\", line_width=2, alpha=0.7, legend=\"Zion\")\n",
    "p.line(year, grandcanyon_visit_data,line_color=\"brown\", line_width=2, alpha=0.7, legend=\"Grand Canyon\")\n",
    "p.line(year, rockymountain_visit_data,line_color=\"purple\", line_width=2, alpha=0.7, legend=\"Rocky Mountain\")\n",
    "p.line(year, smokymountain_visit_data,line_color=\"green\", line_width=2, alpha=0.7, legend=\"Great Smoky Mountains\")\n",
    "\n",
    "\n",
    "# Disables the scientific numbers\n",
    "p.left[0].formatter.use_scientific = False\n",
    "p.below[0].formatter.use_scientific = False\n",
    "\n",
    "output_file(\"recreational_visits.html\", title=\"Recreational Visits\")\n",
    "\n",
    "show(p)"
   ]
  },
  {
   "cell_type": "code",
   "execution_count": null,
   "metadata": {},
   "outputs": [],
   "source": []
  },
  {
   "cell_type": "code",
   "execution_count": 58,
   "metadata": {},
   "outputs": [],
   "source": [
    "'''\n",
    " Review the tent_overnights  and drop the average columns because they are not required\n",
    " Sorted the columns because the year is prefixed to the column names so it was easier to order them\n",
    "\n",
    "'''\n",
    "tent_overnights_new = tent_overnights.drop(columns=['Average_1998_2017_Tent_Overnights', 'Average_1979_1997_Tent_Overnights'])\n",
    "\n",
    "tent_overnights_sorted = tent_overnights_new.reindex(sorted(tent_overnights_new.columns), axis=1)\n",
    "\n",
    "'''\n",
    "After doing some analysis on the National Park Service website \n",
    "I found the most visited parks to date from 1979 to 1997 are:\n",
    "\n",
    "* Yosemite, Zion, Yellowstone, Grand Canyon, Rocky Mountain, Great Smoky Mountains\n",
    "\n",
    "'''\n",
    "\n",
    "\n",
    "# Construct the Visit data for graphing\n",
    "\n",
    "yosemite_data = tent_overnights_sorted[tent_overnights_sorted['Park Name'] == 'Yosemite NP']\n",
    "yosemite_tents = (yosemite_data.pivot_table(yosemite_data,index=[\"Yosemite NP\"])).transpose()\n",
    "\n",
    "zion_data = tent_overnights_sorted[tent_overnights_sorted['Park Name'] == 'Zion NP']\n",
    "zion_tents = (zion_data.pivot_table(zion_data,index=[\"Zion NP\"])).transpose()\n",
    "\n",
    "yellowstone_data = tent_overnights_sorted[tent_overnights_sorted['Park Name'] == 'Yellowstone NP']\n",
    "yellowstone_tents = (yellowstone_data.pivot_table(yellowstone_data,index=[\"Yellowstone NP\"])).transpose()\n",
    "\n",
    "grandcanyon_data = tent_overnights_sorted[tent_overnights_sorted['Park Name'] == 'Grand Canyon NP']\n",
    "grandcanyon_tents = (grandcanyon_data.pivot_table(grandcanyon_data,index=[\"Grand Canyon NP\"])).transpose()\n",
    "\n",
    "rockymoutain_data = tent_overnights_sorted[tent_overnights_sorted['Park Name'] == 'Rocky Mountain NP']\n",
    "rockymoutain_tents = (rockymoutain_data.pivot_table(rockymoutain_data,index=[\"Rocky Mountain NP\"])).transpose()\n",
    "\n",
    "smokymountain_data = tent_overnights_sorted[tent_overnights_sorted['Park Name'] == 'Great Smoky Mountains NP']\n",
    "smokymountain_tents = (smokymountain_data.pivot_table(smokymountain_data,index=[\"Great Smoky Mountains NP\"])).transpose()\n",
    "\n"
   ]
  },
  {
   "cell_type": "code",
   "execution_count": 59,
   "metadata": {},
   "outputs": [
    {
     "name": "stderr",
     "output_type": "stream",
     "text": [
      "/anaconda3/lib/python3.6/site-packages/bokeh/models/sources.py:110: BokehUserWarning: ColumnDataSource's columns must be of the same length. Current lengths: ('x', 38), ('y', 39)\n",
      "  \"Current lengths: %s\" % \", \".join(sorted(str((k, len(v))) for k, v in data.items())), BokehUserWarning))\n",
      "/anaconda3/lib/python3.6/site-packages/bokeh/models/sources.py:110: BokehUserWarning: ColumnDataSource's columns must be of the same length. Current lengths: ('x', 38), ('y', 39)\n",
      "  \"Current lengths: %s\" % \", \".join(sorted(str((k, len(v))) for k, v in data.items())), BokehUserWarning))\n",
      "/anaconda3/lib/python3.6/site-packages/bokeh/models/sources.py:110: BokehUserWarning: ColumnDataSource's columns must be of the same length. Current lengths: ('x', 38), ('y', 39)\n",
      "  \"Current lengths: %s\" % \", \".join(sorted(str((k, len(v))) for k, v in data.items())), BokehUserWarning))\n",
      "/anaconda3/lib/python3.6/site-packages/bokeh/models/sources.py:110: BokehUserWarning: ColumnDataSource's columns must be of the same length. Current lengths: ('x', 38), ('y', 39)\n",
      "  \"Current lengths: %s\" % \", \".join(sorted(str((k, len(v))) for k, v in data.items())), BokehUserWarning))\n",
      "/anaconda3/lib/python3.6/site-packages/bokeh/models/sources.py:110: BokehUserWarning: ColumnDataSource's columns must be of the same length. Current lengths: ('x', 38), ('y', 39)\n",
      "  \"Current lengths: %s\" % \", \".join(sorted(str((k, len(v))) for k, v in data.items())), BokehUserWarning))\n",
      "/anaconda3/lib/python3.6/site-packages/bokeh/models/sources.py:110: BokehUserWarning: ColumnDataSource's columns must be of the same length. Current lengths: ('x', 38), ('y', 39)\n",
      "  \"Current lengths: %s\" % \", \".join(sorted(str((k, len(v))) for k, v in data.items())), BokehUserWarning))\n"
     ]
    }
   ],
   "source": [
    "'''\n",
    "Plot the Tent Camping for top parks using bokeh\n",
    "'''\n",
    "\n",
    "\n",
    "N = 4000\n",
    "x = np.random.random(size=N) * 100\n",
    "y = np.random.random(size=N) * 100\n",
    "radii = np.random.random(size=N) * 1.5\n",
    "colors = [\n",
    "    \"#%02x%02x%02x\" % (int(r), int(g), 150) for r, g in zip(50+2*x, 30+2*y)\n",
    "]\n",
    "\n",
    "\n",
    "TOOLS=\"hover,crosshair,pan,wheel_zoom,zoom_in,zoom_out,box_zoom,undo,redo,reset,tap,save,box_select,poly_select,lasso_select,\"\n",
    "\n",
    "\n",
    "p = figure(tools=TOOLS,title=\"Tent Overnight Camping\",plot_width=800, plot_height=800) # Title is the title of the  plot\n",
    "p.xaxis.axis_label = 'Year' # X-axis label\n",
    "p.yaxis.axis_label = 'Total People Tent Camping' # Y-axis label\n",
    "\n",
    "\n",
    "year = [i for i in range(1979,2017)]\n",
    "yosemite_tent_data = yosemite_tents['Yosemite NP']\n",
    "yellowstone_tent_data = yellowstone_tents['Yellowstone NP']\n",
    "zion_tent_data = zion_tents['Zion NP']\n",
    "grandcanyon_tent_data = grandcanyon_tents['Grand Canyon NP']\n",
    "rockymountain_tent_data = rockymoutain_tents['Rocky Mountain NP']\n",
    "smokymountain_tent_data = smokymountain_tent['Great Smoky Mountains NP']\n",
    "\n",
    "# add a line renderer\n",
    "p.line(year, yosemite_tent_data,line_color=\"orange\", line_width=2, alpha=0.7, legend=\"Yosemite\")\n",
    "p.line(year, yellowstone_tent_data,line_color=\"red\", line_width=2, alpha=0.7, legend=\"Yellow Stone\")\n",
    "p.line(year, zion_tent_data,line_color=\"blue\", line_width=2, alpha=0.7, legend=\"Zion\")\n",
    "p.line(year, grandcanyon_tent_data,line_color=\"brown\", line_width=2, alpha=0.7, legend=\"Grand Canyon\")\n",
    "p.line(year, rockymountain_tent_data,line_color=\"purple\", line_width=2, alpha=0.7, legend=\"Rocky Mountain\")\n",
    "p.line(year, smokymountain_tent_data,line_color=\"green\", line_width=2, alpha=0.7, legend=\"Great Smoky Mountains\")\n",
    "\n",
    "\n",
    "# Disables the scientific numbers\n",
    "p.left[0].formatter.use_scientific = False\n",
    "p.below[0].formatter.use_scientific = False\n",
    "\n",
    "output_file(\"tent_overnight.html\", title=\"Tent Overnight Camping\")\n",
    "\n",
    "show(p)"
   ]
  },
  {
   "cell_type": "code",
   "execution_count": null,
   "metadata": {},
   "outputs": [],
   "source": []
  },
  {
   "cell_type": "code",
   "execution_count": null,
   "metadata": {},
   "outputs": [],
   "source": []
  },
  {
   "cell_type": "code",
   "execution_count": 62,
   "metadata": {},
   "outputs": [],
   "source": [
    "'''\n",
    " Review the back_country_overnights  and drop the average columns because they are not required\n",
    " Sorted the columns because the year is prefixed to the column names so it was easier to order them\n",
    "\n",
    "'''\n",
    "\n",
    "backcountry_overnights_new = backcountry_overnights.drop(columns=['Average_1979_1997_BackCountry_Overnights'])\n",
    "back_country_overnights_sorted = backcountry_overnights_new.reindex(sorted(backcountry_overnights_new.columns), axis=1)\n",
    "\n",
    "'''\n",
    "After doing some analysis on the National Park Service website \n",
    "I found the most visited parks to date from 1979 to 1997 are:\n",
    "\n",
    "* Yosemite, Zion, Yellowstone, Grand Canyon, Rocky Mountain, Great Smoky Mountains\n",
    "\n",
    "'''\n",
    "\n",
    "\n",
    "# Construct the Visit data for graphing\n",
    "\n",
    "yosemite_data = back_country_overnights_sorted[back_country_overnights_sorted['Park Name'] == 'Yosemite NP']\n",
    "yosemite_back_country = (yosemite_data.pivot_table(yosemite_data,index=[\"Yosemite NP\"])).transpose()\n",
    "\n",
    "zion_data = back_country_overnights_sorted[back_country_overnights_sorted['Park Name'] == 'Zion NP']\n",
    "zion_back_country = (zion_data.pivot_table(zion_data,index=[\"Zion NP\"])).transpose()\n",
    "\n",
    "yellowstone_data = back_country_overnights_sorted[back_country_overnights_sorted['Park Name'] == 'Yellowstone NP']\n",
    "yellowstone_back_country = (yellowstone_data.pivot_table(yellowstone_data,index=[\"Yellowstone NP\"])).transpose()\n",
    "\n",
    "grandcanyon_data = back_country_overnights_sorted[back_country_overnights_sorted['Park Name'] == 'Grand Canyon NP']\n",
    "grandcanyon_back_country = (grandcanyon_data.pivot_table(grandcanyon_data,index=[\"Grand Canyon NP\"])).transpose()\n",
    "\n",
    "rockymoutain_data = back_country_overnights_sorted[back_country_overnights_sorted['Park Name'] == 'Rocky Mountain NP']\n",
    "rockymoutain_back_country = (rockymoutain_data.pivot_table(rockymoutain_data,index=[\"Rocky Mountain NP\"])).transpose()\n",
    "\n",
    "smokymountain_data = back_country_overnights_sorted[back_country_overnights_sorted['Park Name'] == 'Great Smoky Mountains NP']\n",
    "smokymountain_back_country = (smokymountain_data.pivot_table(smokymountain_data,index=[\"Great Smoky Mountains NP\"])).transpose()\n",
    "\n"
   ]
  },
  {
   "cell_type": "code",
   "execution_count": 63,
   "metadata": {},
   "outputs": [
    {
     "name": "stderr",
     "output_type": "stream",
     "text": [
      "/anaconda3/lib/python3.6/site-packages/bokeh/models/sources.py:110: BokehUserWarning: ColumnDataSource's columns must be of the same length. Current lengths: ('x', 38), ('y', 39)\n",
      "  \"Current lengths: %s\" % \", \".join(sorted(str((k, len(v))) for k, v in data.items())), BokehUserWarning))\n",
      "/anaconda3/lib/python3.6/site-packages/bokeh/models/sources.py:110: BokehUserWarning: ColumnDataSource's columns must be of the same length. Current lengths: ('x', 38), ('y', 39)\n",
      "  \"Current lengths: %s\" % \", \".join(sorted(str((k, len(v))) for k, v in data.items())), BokehUserWarning))\n",
      "/anaconda3/lib/python3.6/site-packages/bokeh/models/sources.py:110: BokehUserWarning: ColumnDataSource's columns must be of the same length. Current lengths: ('x', 38), ('y', 39)\n",
      "  \"Current lengths: %s\" % \", \".join(sorted(str((k, len(v))) for k, v in data.items())), BokehUserWarning))\n",
      "/anaconda3/lib/python3.6/site-packages/bokeh/models/sources.py:110: BokehUserWarning: ColumnDataSource's columns must be of the same length. Current lengths: ('x', 38), ('y', 39)\n",
      "  \"Current lengths: %s\" % \", \".join(sorted(str((k, len(v))) for k, v in data.items())), BokehUserWarning))\n",
      "/anaconda3/lib/python3.6/site-packages/bokeh/models/sources.py:110: BokehUserWarning: ColumnDataSource's columns must be of the same length. Current lengths: ('x', 38), ('y', 39)\n",
      "  \"Current lengths: %s\" % \", \".join(sorted(str((k, len(v))) for k, v in data.items())), BokehUserWarning))\n",
      "/anaconda3/lib/python3.6/site-packages/bokeh/models/sources.py:110: BokehUserWarning: ColumnDataSource's columns must be of the same length. Current lengths: ('x', 38), ('y', 39)\n",
      "  \"Current lengths: %s\" % \", \".join(sorted(str((k, len(v))) for k, v in data.items())), BokehUserWarning))\n"
     ]
    }
   ],
   "source": [
    "'''\n",
    "Plot the Back Country Camping for top parks using bokeh\n",
    "'''\n",
    "\n",
    "\n",
    "N = 4000\n",
    "x = np.random.random(size=N) * 100\n",
    "y = np.random.random(size=N) * 100\n",
    "radii = np.random.random(size=N) * 1.5\n",
    "colors = [\n",
    "    \"#%02x%02x%02x\" % (int(r), int(g), 150) for r, g in zip(50+2*x, 30+2*y)\n",
    "]\n",
    "\n",
    "\n",
    "TOOLS=\"hover,crosshair,pan,wheel_zoom,zoom_in,zoom_out,box_zoom,undo,redo,reset,tap,save,box_select,poly_select,lasso_select,\"\n",
    "\n",
    "\n",
    "p = figure(tools=TOOLS,title=\"Back Country Camping\",plot_width=800, plot_height=800) # Title is the title of the  plot\n",
    "p.xaxis.axis_label = 'Year' # X-axis label\n",
    "p.yaxis.axis_label = 'Total People Back Country Camping' # Y-axis label\n",
    "\n",
    "\n",
    "year = [i for i in range(1979,2017)]\n",
    "yosemite_back_country_data = yosemite_back_country['Yosemite NP']\n",
    "yellowstone_back_country_data = yellowstone_back_country['Yellowstone NP']\n",
    "zion_back_country_data = zion_back_country['Zion NP']\n",
    "grandcanyon_back_country_data = grandcanyon_back_country['Grand Canyon NP']\n",
    "rockymountain_back_country_data = rockymoutain_back_country['Rocky Mountain NP']\n",
    "smokymountain_back_country_data = smokymountain_back_country['Great Smoky Mountains NP']\n",
    "\n",
    "# add a line renderer\n",
    "p.line(year, yosemite_back_country_data,line_color=\"orange\", line_width=2, alpha=0.7, legend=\"Yosemite\")\n",
    "p.line(year, yellowstone_back_country_data,line_color=\"red\", line_width=2, alpha=0.7, legend=\"Yellow Stone\")\n",
    "p.line(year, zion_back_country_data,line_color=\"blue\", line_width=2, alpha=0.7, legend=\"Zion\")\n",
    "p.line(year, grandcanyon_back_country_data,line_color=\"brown\", line_width=2, alpha=0.7, legend=\"Grand Canyon\")\n",
    "p.line(year, rockymountain_back_country_data,line_color=\"purple\", line_width=2, alpha=0.7, legend=\"Rocky Mountain\")\n",
    "p.line(year, smokymountain_back_country_data,line_color=\"green\", line_width=2, alpha=0.7, legend=\"Great Smoky Mountains\")\n",
    "\n",
    "\n",
    "# Disables the scientific numbers\n",
    "p.left[0].formatter.use_scientific = False\n",
    "p.below[0].formatter.use_scientific = False\n",
    "\n",
    "output_file(\"back_country_overnight.html\", title=\"Back Counter Overnight Camping\")\n",
    "\n",
    "show(p)"
   ]
  },
  {
   "cell_type": "code",
   "execution_count": 64,
   "metadata": {},
   "outputs": [
    {
     "name": "stdout",
     "output_type": "stream",
     "text": [
      "120676.46153846153\n"
     ]
    }
   ],
   "source": [
    "print(yosemite_back_country_data.mean())"
   ]
  },
  {
   "cell_type": "code",
   "execution_count": 65,
   "metadata": {},
   "outputs": [],
   "source": [
    "parks = ['Zion','Grand Canyon','Yellow Stone', 'Yosemite','Rocky Mountain']"
   ]
  },
  {
   "cell_type": "code",
   "execution_count": 70,
   "metadata": {},
   "outputs": [],
   "source": [
    "back_country_data = [zion_back_country_data.mean(), grandcanyon_back_country_data.mean(), \\\n",
    "                    yellowstone_back_country_data.mean(), yosemite_back_country_data.mean(), \\\n",
    "                     rockymountain_back_country_data.mean(),smokymountain_back_country_data.mean() ]\n",
    "tent_data = [zion_tent_data.mean(), grandcanyon_tent_data.mean(), \\\n",
    "                    yellowstone_tent_data.mean(), yosemite_tent_data.mean(), \\\n",
    "                     rockymountain_tent_data.mean(),smokymountain_tent_data.mean() ]\n",
    "\n",
    "chi_square_data = [back_country_data, tent_data]\n",
    "\n"
   ]
  },
  {
   "cell_type": "code",
   "execution_count": 71,
   "metadata": {},
   "outputs": [
    {
     "data": {
      "text/plain": [
       "[[20878.53846153846,\n",
       "  199852.10256410256,\n",
       "  40493.07692307692,\n",
       "  120676.46153846153,\n",
       "  39581.5641025641,\n",
       "  82005.92307692308],\n",
       " [104329.79487179487,\n",
       "  135386.41025641025,\n",
       "  142106.87179487178,\n",
       "  547776.282051282,\n",
       "  101238.56410256411,\n",
       "  175953.6923076923]]"
      ]
     },
     "execution_count": 71,
     "metadata": {},
     "output_type": "execute_result"
    }
   ],
   "source": [
    "chi_square_data"
   ]
  },
  {
   "cell_type": "code",
   "execution_count": 73,
   "metadata": {},
   "outputs": [
    {
     "name": "stdout",
     "output_type": "stream",
     "text": [
      "Test Statistic : 203937.53703383773\n",
      "P-value of the chi-square test : 0.0\n",
      "Degrees of Freedom : 5\n",
      "Expected Frequencies: \n",
      "[[ 36859.9750104   98690.58133848  53755.44396655 196785.2360015\n",
      "   41455.91805606  75940.51229367]\n",
      " [ 88348.35832293 236547.93148203 128844.5047514  471667.50758825\n",
      "   99364.21014906 182019.10309094]]\n"
     ]
    }
   ],
   "source": [
    "# Calculate the Chi-square test\n",
    "\n",
    "g, p, dof, expctd = stats.chi2_contingency(chi_square_data)\n",
    "\n",
    "print(\"Test Statistic : {}\".format(g))\n",
    "print(\"P-value of the chi-square test : {}\".format(p))\n",
    "print(\"Degrees of Freedom : {}\".format(dof))\n",
    "print(\"Expected Frequencies: \")\n",
    "print(expctd)"
   ]
  },
  {
   "cell_type": "markdown",
   "metadata": {},
   "source": [
    " Ran Test Statistic against a calculator and got \n",
    " https://www.socscistatistics.com/pvalues/chidistribution.aspx\n",
    "\n",
    " The P-Value is < .00001. The result is significant at p < .05"
   ]
  },
  {
   "cell_type": "code",
   "execution_count": null,
   "metadata": {},
   "outputs": [],
   "source": []
  }
 ],
 "metadata": {
  "kernelspec": {
   "display_name": "Python 3",
   "language": "python",
   "name": "python3"
  },
  "language_info": {
   "codemirror_mode": {
    "name": "ipython",
    "version": 3
   },
   "file_extension": ".py",
   "mimetype": "text/x-python",
   "name": "python",
   "nbconvert_exporter": "python",
   "pygments_lexer": "ipython3",
   "version": "3.6.5"
  }
 },
 "nbformat": 4,
 "nbformat_minor": 2
}
